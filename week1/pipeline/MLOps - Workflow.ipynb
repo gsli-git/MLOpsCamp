{
 "cells": [
  {
   "cell_type": "code",
   "execution_count": 1,
   "id": "17dd4a4d",
   "metadata": {},
   "outputs": [
    {
     "name": "stdout",
     "output_type": "stream",
     "text": [
      "Requirement already satisfied: stepfunctions in /Users/pengzhao/opt/anaconda3/envs/mlops/lib/python3.10/site-packages (2.3.0)\n",
      "Requirement already satisfied: sagemaker>=2.1.0 in /Users/pengzhao/opt/anaconda3/envs/mlops/lib/python3.10/site-packages (from stepfunctions) (2.237.0)\n",
      "Requirement already satisfied: boto3>=1.14.38 in /Users/pengzhao/opt/anaconda3/envs/mlops/lib/python3.10/site-packages (from stepfunctions) (1.35.77)\n",
      "Requirement already satisfied: pyyaml in /Users/pengzhao/opt/anaconda3/envs/mlops/lib/python3.10/site-packages (from stepfunctions) (6.0.2)\n",
      "Requirement already satisfied: botocore<1.36.0,>=1.35.77 in /Users/pengzhao/opt/anaconda3/envs/mlops/lib/python3.10/site-packages (from boto3>=1.14.38->stepfunctions) (1.35.77)\n",
      "Requirement already satisfied: jmespath<2.0.0,>=0.7.1 in /Users/pengzhao/opt/anaconda3/envs/mlops/lib/python3.10/site-packages (from boto3>=1.14.38->stepfunctions) (1.0.1)\n",
      "Requirement already satisfied: s3transfer<0.11.0,>=0.10.0 in /Users/pengzhao/opt/anaconda3/envs/mlops/lib/python3.10/site-packages (from boto3>=1.14.38->stepfunctions) (0.10.4)\n",
      "Requirement already satisfied: attrs<24,>=23.1.0 in /Users/pengzhao/opt/anaconda3/envs/mlops/lib/python3.10/site-packages (from sagemaker>=2.1.0->stepfunctions) (23.2.0)\n",
      "Requirement already satisfied: cloudpickle==2.2.1 in /Users/pengzhao/opt/anaconda3/envs/mlops/lib/python3.10/site-packages (from sagemaker>=2.1.0->stepfunctions) (2.2.1)\n",
      "Requirement already satisfied: docker in /Users/pengzhao/opt/anaconda3/envs/mlops/lib/python3.10/site-packages (from sagemaker>=2.1.0->stepfunctions) (7.1.0)\n",
      "Requirement already satisfied: fastapi in /Users/pengzhao/opt/anaconda3/envs/mlops/lib/python3.10/site-packages (from sagemaker>=2.1.0->stepfunctions) (0.115.6)\n",
      "Requirement already satisfied: google-pasta in /Users/pengzhao/opt/anaconda3/envs/mlops/lib/python3.10/site-packages (from sagemaker>=2.1.0->stepfunctions) (0.2.0)\n",
      "Requirement already satisfied: importlib-metadata<7.0,>=1.4.0 in /Users/pengzhao/opt/anaconda3/envs/mlops/lib/python3.10/site-packages (from sagemaker>=2.1.0->stepfunctions) (6.11.0)\n",
      "Requirement already satisfied: jsonschema in /Users/pengzhao/opt/anaconda3/envs/mlops/lib/python3.10/site-packages (from sagemaker>=2.1.0->stepfunctions) (4.23.0)\n",
      "Requirement already satisfied: numpy<2.0,>=1.9.0 in /Users/pengzhao/opt/anaconda3/envs/mlops/lib/python3.10/site-packages (from sagemaker>=2.1.0->stepfunctions) (1.26.4)\n",
      "Requirement already satisfied: omegaconf<2.3,>=2.2 in /Users/pengzhao/opt/anaconda3/envs/mlops/lib/python3.10/site-packages (from sagemaker>=2.1.0->stepfunctions) (2.2.3)\n",
      "Requirement already satisfied: packaging>=20.0 in /Users/pengzhao/opt/anaconda3/envs/mlops/lib/python3.10/site-packages (from sagemaker>=2.1.0->stepfunctions) (24.1)\n",
      "Requirement already satisfied: pandas in /Users/pengzhao/opt/anaconda3/envs/mlops/lib/python3.10/site-packages (from sagemaker>=2.1.0->stepfunctions) (2.2.3)\n",
      "Requirement already satisfied: pathos in /Users/pengzhao/opt/anaconda3/envs/mlops/lib/python3.10/site-packages (from sagemaker>=2.1.0->stepfunctions) (0.3.3)\n",
      "Requirement already satisfied: platformdirs in /Users/pengzhao/opt/anaconda3/envs/mlops/lib/python3.10/site-packages (from sagemaker>=2.1.0->stepfunctions) (4.3.6)\n",
      "Requirement already satisfied: protobuf<5.0,>=3.12 in /Users/pengzhao/opt/anaconda3/envs/mlops/lib/python3.10/site-packages (from sagemaker>=2.1.0->stepfunctions) (4.25.5)\n",
      "Requirement already satisfied: psutil in /Users/pengzhao/opt/anaconda3/envs/mlops/lib/python3.10/site-packages (from sagemaker>=2.1.0->stepfunctions) (5.9.0)\n",
      "Requirement already satisfied: requests in /Users/pengzhao/opt/anaconda3/envs/mlops/lib/python3.10/site-packages (from sagemaker>=2.1.0->stepfunctions) (2.32.3)\n",
      "Requirement already satisfied: sagemaker-core<2.0.0,>=1.0.17 in /Users/pengzhao/opt/anaconda3/envs/mlops/lib/python3.10/site-packages (from sagemaker>=2.1.0->stepfunctions) (1.0.17)\n",
      "Requirement already satisfied: schema in /Users/pengzhao/opt/anaconda3/envs/mlops/lib/python3.10/site-packages (from sagemaker>=2.1.0->stepfunctions) (0.7.7)\n",
      "Requirement already satisfied: smdebug-rulesconfig==1.0.1 in /Users/pengzhao/opt/anaconda3/envs/mlops/lib/python3.10/site-packages (from sagemaker>=2.1.0->stepfunctions) (1.0.1)\n",
      "Requirement already satisfied: tblib<4,>=1.7.0 in /Users/pengzhao/opt/anaconda3/envs/mlops/lib/python3.10/site-packages (from sagemaker>=2.1.0->stepfunctions) (3.0.0)\n",
      "Requirement already satisfied: tqdm in /Users/pengzhao/opt/anaconda3/envs/mlops/lib/python3.10/site-packages (from sagemaker>=2.1.0->stepfunctions) (4.67.1)\n",
      "Requirement already satisfied: urllib3<3.0.0,>=1.26.8 in /Users/pengzhao/opt/anaconda3/envs/mlops/lib/python3.10/site-packages (from sagemaker>=2.1.0->stepfunctions) (2.2.3)\n",
      "Requirement already satisfied: uvicorn in /Users/pengzhao/opt/anaconda3/envs/mlops/lib/python3.10/site-packages (from sagemaker>=2.1.0->stepfunctions) (0.33.0)\n",
      "Requirement already satisfied: python-dateutil<3.0.0,>=2.1 in /Users/pengzhao/opt/anaconda3/envs/mlops/lib/python3.10/site-packages (from botocore<1.36.0,>=1.35.77->boto3>=1.14.38->stepfunctions) (2.9.0.post0)\n",
      "Requirement already satisfied: zipp>=0.5 in /Users/pengzhao/opt/anaconda3/envs/mlops/lib/python3.10/site-packages (from importlib-metadata<7.0,>=1.4.0->sagemaker>=2.1.0->stepfunctions) (3.21.0)\n",
      "Requirement already satisfied: antlr4-python3-runtime==4.9.* in /Users/pengzhao/opt/anaconda3/envs/mlops/lib/python3.10/site-packages (from omegaconf<2.3,>=2.2->sagemaker>=2.1.0->stepfunctions) (4.9.3)\n",
      "Requirement already satisfied: pydantic<3.0.0,>=2.0.0 in /Users/pengzhao/opt/anaconda3/envs/mlops/lib/python3.10/site-packages (from sagemaker-core<2.0.0,>=1.0.17->sagemaker>=2.1.0->stepfunctions) (2.10.3)\n",
      "Requirement already satisfied: rich<14.0.0,>=13.0.0 in /Users/pengzhao/opt/anaconda3/envs/mlops/lib/python3.10/site-packages (from sagemaker-core<2.0.0,>=1.0.17->sagemaker>=2.1.0->stepfunctions) (13.9.4)\n",
      "Requirement already satisfied: mock<5.0,>4.0 in /Users/pengzhao/opt/anaconda3/envs/mlops/lib/python3.10/site-packages (from sagemaker-core<2.0.0,>=1.0.17->sagemaker>=2.1.0->stepfunctions) (4.0.3)\n",
      "Requirement already satisfied: jsonschema-specifications>=2023.03.6 in /Users/pengzhao/opt/anaconda3/envs/mlops/lib/python3.10/site-packages (from jsonschema->sagemaker>=2.1.0->stepfunctions) (2023.7.1)\n",
      "Requirement already satisfied: referencing>=0.28.4 in /Users/pengzhao/opt/anaconda3/envs/mlops/lib/python3.10/site-packages (from jsonschema->sagemaker>=2.1.0->stepfunctions) (0.30.2)\n",
      "Requirement already satisfied: rpds-py>=0.7.1 in /Users/pengzhao/opt/anaconda3/envs/mlops/lib/python3.10/site-packages (from jsonschema->sagemaker>=2.1.0->stepfunctions) (0.10.6)\n",
      "Requirement already satisfied: charset-normalizer<4,>=2 in /Users/pengzhao/opt/anaconda3/envs/mlops/lib/python3.10/site-packages (from requests->sagemaker>=2.1.0->stepfunctions) (3.3.2)\n",
      "Requirement already satisfied: idna<4,>=2.5 in /Users/pengzhao/opt/anaconda3/envs/mlops/lib/python3.10/site-packages (from requests->sagemaker>=2.1.0->stepfunctions) (3.7)\n",
      "Requirement already satisfied: certifi>=2017.4.17 in /Users/pengzhao/opt/anaconda3/envs/mlops/lib/python3.10/site-packages (from requests->sagemaker>=2.1.0->stepfunctions) (2024.8.30)\n",
      "Requirement already satisfied: starlette<0.42.0,>=0.40.0 in /Users/pengzhao/opt/anaconda3/envs/mlops/lib/python3.10/site-packages (from fastapi->sagemaker>=2.1.0->stepfunctions) (0.41.3)\n",
      "Requirement already satisfied: typing-extensions>=4.8.0 in /Users/pengzhao/opt/anaconda3/envs/mlops/lib/python3.10/site-packages (from fastapi->sagemaker>=2.1.0->stepfunctions) (4.12.2)\n",
      "Requirement already satisfied: six in /Users/pengzhao/opt/anaconda3/envs/mlops/lib/python3.10/site-packages (from google-pasta->sagemaker>=2.1.0->stepfunctions) (1.16.0)\n",
      "Requirement already satisfied: pytz>=2020.1 in /Users/pengzhao/opt/anaconda3/envs/mlops/lib/python3.10/site-packages (from pandas->sagemaker>=2.1.0->stepfunctions) (2024.1)\n",
      "Requirement already satisfied: tzdata>=2022.7 in /Users/pengzhao/opt/anaconda3/envs/mlops/lib/python3.10/site-packages (from pandas->sagemaker>=2.1.0->stepfunctions) (2024.2)\n",
      "Requirement already satisfied: ppft>=1.7.6.9 in /Users/pengzhao/opt/anaconda3/envs/mlops/lib/python3.10/site-packages (from pathos->sagemaker>=2.1.0->stepfunctions) (1.7.6.9)\n",
      "Requirement already satisfied: dill>=0.3.9 in /Users/pengzhao/opt/anaconda3/envs/mlops/lib/python3.10/site-packages (from pathos->sagemaker>=2.1.0->stepfunctions) (0.3.9)\n",
      "Requirement already satisfied: pox>=0.3.5 in /Users/pengzhao/opt/anaconda3/envs/mlops/lib/python3.10/site-packages (from pathos->sagemaker>=2.1.0->stepfunctions) (0.3.5)\n",
      "Requirement already satisfied: multiprocess>=0.70.17 in /Users/pengzhao/opt/anaconda3/envs/mlops/lib/python3.10/site-packages (from pathos->sagemaker>=2.1.0->stepfunctions) (0.70.17)\n",
      "Requirement already satisfied: click>=7.0 in /Users/pengzhao/opt/anaconda3/envs/mlops/lib/python3.10/site-packages (from uvicorn->sagemaker>=2.1.0->stepfunctions) (7.1.2)\n",
      "Requirement already satisfied: h11>=0.8 in /Users/pengzhao/opt/anaconda3/envs/mlops/lib/python3.10/site-packages (from uvicorn->sagemaker>=2.1.0->stepfunctions) (0.9.0)\n",
      "Requirement already satisfied: annotated-types>=0.6.0 in /Users/pengzhao/opt/anaconda3/envs/mlops/lib/python3.10/site-packages (from pydantic<3.0.0,>=2.0.0->sagemaker-core<2.0.0,>=1.0.17->sagemaker>=2.1.0->stepfunctions) (0.7.0)\n",
      "Requirement already satisfied: pydantic-core==2.27.1 in /Users/pengzhao/opt/anaconda3/envs/mlops/lib/python3.10/site-packages (from pydantic<3.0.0,>=2.0.0->sagemaker-core<2.0.0,>=1.0.17->sagemaker>=2.1.0->stepfunctions) (2.27.1)\n",
      "Requirement already satisfied: markdown-it-py>=2.2.0 in /Users/pengzhao/opt/anaconda3/envs/mlops/lib/python3.10/site-packages (from rich<14.0.0,>=13.0.0->sagemaker-core<2.0.0,>=1.0.17->sagemaker>=2.1.0->stepfunctions) (3.0.0)\n",
      "Requirement already satisfied: pygments<3.0.0,>=2.13.0 in /Users/pengzhao/opt/anaconda3/envs/mlops/lib/python3.10/site-packages (from rich<14.0.0,>=13.0.0->sagemaker-core<2.0.0,>=1.0.17->sagemaker>=2.1.0->stepfunctions) (2.15.1)\n",
      "Requirement already satisfied: anyio<5,>=3.4.0 in /Users/pengzhao/opt/anaconda3/envs/mlops/lib/python3.10/site-packages (from starlette<0.42.0,>=0.40.0->fastapi->sagemaker>=2.1.0->stepfunctions) (4.6.2)\n",
      "Requirement already satisfied: sniffio>=1.1 in /Users/pengzhao/opt/anaconda3/envs/mlops/lib/python3.10/site-packages (from anyio<5,>=3.4.0->starlette<0.42.0,>=0.40.0->fastapi->sagemaker>=2.1.0->stepfunctions) (1.3.0)\n",
      "Requirement already satisfied: exceptiongroup>=1.0.2 in /Users/pengzhao/opt/anaconda3/envs/mlops/lib/python3.10/site-packages (from anyio<5,>=3.4.0->starlette<0.42.0,>=0.40.0->fastapi->sagemaker>=2.1.0->stepfunctions) (1.2.0)\n",
      "Requirement already satisfied: mdurl~=0.1 in /Users/pengzhao/opt/anaconda3/envs/mlops/lib/python3.10/site-packages (from markdown-it-py>=2.2.0->rich<14.0.0,>=13.0.0->sagemaker-core<2.0.0,>=1.0.17->sagemaker>=2.1.0->stepfunctions) (0.1.2)\n"
     ]
    }
   ],
   "source": [
    "import sys\n",
    "\n",
    "!{sys.executable} -m pip install --upgrade stepfunctions"
   ]
  },
  {
   "cell_type": "code",
   "execution_count": 2,
   "id": "a048f281",
   "metadata": {},
   "outputs": [
    {
     "name": "stderr",
     "output_type": "stream",
     "text": [
      "/Users/pengzhao/opt/anaconda3/envs/mlops/lib/python3.10/site-packages/pydantic/_internal/_fields.py:192: UserWarning: Field name \"json\" in \"MonitoringDatasetFormat\" shadows an attribute in parent \"Base\"\n",
      "  warnings.warn(\n"
     ]
    },
    {
     "data": {
      "text/html": [
       "<pre style=\"white-space:pre;overflow-x:auto;line-height:normal;font-family:Menlo,'DejaVu Sans Mono',consolas,'Courier New',monospace\"><span style=\"color: #7fbfbf; text-decoration-color: #7fbfbf\">[12/14/24 18:23:08] </span><span style=\"color: #0069ff; text-decoration-color: #0069ff; font-weight: bold\">INFO    </span> Found credentials in shared credentials file: ~<span style=\"color: #e100e1; text-decoration-color: #e100e1\">/.aws/credentials</span>   <a href=\"file:///Users/pengzhao/opt/anaconda3/envs/mlops/lib/python3.10/site-packages/botocore/credentials.py\" target=\"_blank\"><span style=\"color: #7f7f7f; text-decoration-color: #7f7f7f\">credentials.py</span></a><span style=\"color: #7f7f7f; text-decoration-color: #7f7f7f\">:</span><a href=\"file:///Users/pengzhao/opt/anaconda3/envs/mlops/lib/python3.10/site-packages/botocore/credentials.py#1278\" target=\"_blank\"><span style=\"color: #7f7f7f; text-decoration-color: #7f7f7f\">1278</span></a>\n",
       "</pre>\n"
      ],
      "text/plain": [
       "\u001b[2;36m[12/14/24 18:23:08]\u001b[0m\u001b[2;36m \u001b[0m\u001b[1;38;2;0;105;255mINFO    \u001b[0m Found credentials in shared credentials file: ~\u001b[38;2;225;0;225m/.aws/\u001b[0m\u001b[38;2;225;0;225mcredentials\u001b[0m   \u001b]8;id=752484;file:///Users/pengzhao/opt/anaconda3/envs/mlops/lib/python3.10/site-packages/botocore/credentials.py\u001b\\\u001b[2mcredentials.py\u001b[0m\u001b]8;;\u001b\\\u001b[2m:\u001b[0m\u001b]8;id=211606;file:///Users/pengzhao/opt/anaconda3/envs/mlops/lib/python3.10/site-packages/botocore/credentials.py#1278\u001b\\\u001b[2m1278\u001b[0m\u001b]8;;\u001b\\\n"
      ]
     },
     "metadata": {},
     "output_type": "display_data"
    },
    {
     "name": "stdout",
     "output_type": "stream",
     "text": [
      "sagemaker.config INFO - Not applying SDK defaults from location: /Library/Application Support/sagemaker/config.yaml\n",
      "sagemaker.config INFO - Not applying SDK defaults from location: /Users/pengzhao/Library/Application Support/sagemaker/config.yaml\n"
     ]
    },
    {
     "data": {
      "text/html": [
       "<pre style=\"white-space:pre;overflow-x:auto;line-height:normal;font-family:Menlo,'DejaVu Sans Mono',consolas,'Courier New',monospace\"><span style=\"color: #7fbfbf; text-decoration-color: #7fbfbf\">[12/14/24 18:23:09] </span><span style=\"color: #0069ff; text-decoration-color: #0069ff; font-weight: bold\">INFO    </span> Found credentials in shared credentials file: ~<span style=\"color: #e100e1; text-decoration-color: #e100e1\">/.aws/credentials</span>   <a href=\"file:///Users/pengzhao/opt/anaconda3/envs/mlops/lib/python3.10/site-packages/botocore/credentials.py\" target=\"_blank\"><span style=\"color: #7f7f7f; text-decoration-color: #7f7f7f\">credentials.py</span></a><span style=\"color: #7f7f7f; text-decoration-color: #7f7f7f\">:</span><a href=\"file:///Users/pengzhao/opt/anaconda3/envs/mlops/lib/python3.10/site-packages/botocore/credentials.py#1278\" target=\"_blank\"><span style=\"color: #7f7f7f; text-decoration-color: #7f7f7f\">1278</span></a>\n",
       "</pre>\n"
      ],
      "text/plain": [
       "\u001b[2;36m[12/14/24 18:23:09]\u001b[0m\u001b[2;36m \u001b[0m\u001b[1;38;2;0;105;255mINFO    \u001b[0m Found credentials in shared credentials file: ~\u001b[38;2;225;0;225m/.aws/\u001b[0m\u001b[38;2;225;0;225mcredentials\u001b[0m   \u001b]8;id=769806;file:///Users/pengzhao/opt/anaconda3/envs/mlops/lib/python3.10/site-packages/botocore/credentials.py\u001b\\\u001b[2mcredentials.py\u001b[0m\u001b]8;;\u001b\\\u001b[2m:\u001b[0m\u001b]8;id=442805;file:///Users/pengzhao/opt/anaconda3/envs/mlops/lib/python3.10/site-packages/botocore/credentials.py#1278\u001b\\\u001b[2m1278\u001b[0m\u001b]8;;\u001b\\\n"
      ]
     },
     "metadata": {},
     "output_type": "display_data"
    }
   ],
   "source": [
    "import uuid\n",
    "import logging\n",
    "import stepfunctions\n",
    "import boto3\n",
    "import sagemaker\n",
    "\n",
    "from sagemaker.amazon.amazon_estimator import image_uris\n",
    "from sagemaker.inputs import TrainingInput\n",
    "from sagemaker.s3 import S3Uploader\n",
    "from stepfunctions import steps\n",
    "from stepfunctions.steps import TrainingStep, ModelStep\n",
    "from stepfunctions.inputs import ExecutionInput\n",
    "from stepfunctions.workflow import Workflow\n",
    "\n",
    "# Set up sagemaker connection session\n",
    "session = sagemaker.Session()\n",
    "# Set up logging level\n",
    "stepfunctions.set_stream_logger(level=logging.INFO)\n",
    "\n",
    "# Set up AWS python SDK session\n",
    "region = boto3.Session().region_name\n",
    "# Set up S3 bucket location \n",
    "bucket = session.default_bucket()\n",
    "# Generate random UUID for this run\n",
    "id = uuid.uuid4().hex\n",
    "\n",
    "# Create a unique name for the AWS Glue job to be created. If you change the\n",
    "# default name, you may need to change the Step Functions execution role.\n",
    "job_name = \"glue-customer-churn-etl-{}\".format(id)\n",
    "\n",
    "# Create a unique name for the AWS Lambda function to be created. If you change\n",
    "# the default name, you may need to change the Step Functions execution role.\n",
    "function_name = \"query-training-status-{}\".format(id)"
   ]
  },
  {
   "cell_type": "code",
   "execution_count": 3,
   "id": "633d7bdb",
   "metadata": {},
   "outputs": [],
   "source": [
    "# paste the role'ARN we created for this course \n",
    "workflow_execution_role = \"arn:aws:iam::798223350085:role/FULLSTACKDS_ROLE1\"\n",
    "\n",
    "# SageMaker Execution Role\n",
    "# You can use sagemaker.get_execution_role() if running inside sagemaker's notebook instance\n",
    "#sagemaker_execution_role = (sagemaker.get_execution_role())\n",
    "\n",
    "sagemaker_execution_role = \"arn:aws:iam::798223350085:role/FULLSTACKDS_ROLE1\""
   ]
  },
  {
   "cell_type": "code",
   "execution_count": 4,
   "id": "085341b7",
   "metadata": {},
   "outputs": [
    {
     "data": {
      "text/html": [
       "<pre style=\"white-space:pre;overflow-x:auto;line-height:normal;font-family:Menlo,'DejaVu Sans Mono',consolas,'Courier New',monospace\"><span style=\"color: #7fbfbf; text-decoration-color: #7fbfbf\">[12/14/24 18:42:16] </span><span style=\"color: #0069ff; text-decoration-color: #0069ff; font-weight: bold\">INFO    </span> Found credentials in shared credentials file: ~<span style=\"color: #e100e1; text-decoration-color: #e100e1\">/.aws/credentials</span>   <a href=\"file:///Users/pengzhao/opt/anaconda3/envs/mlops/lib/python3.10/site-packages/botocore/credentials.py\" target=\"_blank\"><span style=\"color: #7f7f7f; text-decoration-color: #7f7f7f\">credentials.py</span></a><span style=\"color: #7f7f7f; text-decoration-color: #7f7f7f\">:</span><a href=\"file:///Users/pengzhao/opt/anaconda3/envs/mlops/lib/python3.10/site-packages/botocore/credentials.py#1278\" target=\"_blank\"><span style=\"color: #7f7f7f; text-decoration-color: #7f7f7f\">1278</span></a>\n",
       "</pre>\n"
      ],
      "text/plain": [
       "\u001b[2;36m[12/14/24 18:42:16]\u001b[0m\u001b[2;36m \u001b[0m\u001b[1;38;2;0;105;255mINFO    \u001b[0m Found credentials in shared credentials file: ~\u001b[38;2;225;0;225m/.aws/\u001b[0m\u001b[38;2;225;0;225mcredentials\u001b[0m   \u001b]8;id=60274;file:///Users/pengzhao/opt/anaconda3/envs/mlops/lib/python3.10/site-packages/botocore/credentials.py\u001b\\\u001b[2mcredentials.py\u001b[0m\u001b]8;;\u001b\\\u001b[2m:\u001b[0m\u001b]8;id=586291;file:///Users/pengzhao/opt/anaconda3/envs/mlops/lib/python3.10/site-packages/botocore/credentials.py#1278\u001b\\\u001b[2m1278\u001b[0m\u001b]8;;\u001b\\\n"
      ]
     },
     "metadata": {},
     "output_type": "display_data"
    },
    {
     "name": "stdout",
     "output_type": "stream",
     "text": [
      "sagemaker-us-west-1-798223350085\n"
     ]
    }
   ],
   "source": [
    "session = sagemaker.Session()\n",
    "# In the case you cannot get the right default bucket, you can specify a S3 location you created manually\n",
    "bucket = session.default_bucket()\n",
    "print(bucket)"
   ]
  },
  {
   "cell_type": "code",
   "execution_count": 5,
   "id": "43f58a5a",
   "metadata": {},
   "outputs": [],
   "source": [
    "# Same role we created in homework 1\n",
    "glue_role = \"arn:aws:iam::798223350085:role/FULLSTACKDS_ROLE1\""
   ]
  },
  {
   "cell_type": "code",
   "execution_count": 6,
   "id": "59792cd8",
   "metadata": {},
   "outputs": [],
   "source": [
    "# Same role we created in homework 1\n",
    "lambda_role = \"arn:aws:iam::798223350085:role/FULLSTACKDS_ROLE1\""
   ]
  },
  {
   "cell_type": "code",
   "execution_count": 7,
   "id": "3851e516",
   "metadata": {},
   "outputs": [],
   "source": [
    "# Name anything you want\n",
    "project_name = \"ml_deploy\"\n",
    "\n",
    "# Copy customer churn csv data into this notebook instance\n",
    "# Then use the following code to copy your local CSV to S3 location for model training\n",
    "data_source = S3Uploader.upload(\n",
    "    local_path=\"./data/customer-churn.csv\",\n",
    "    desired_s3_uri=\"s3://{}/{}\".format(bucket, project_name),\n",
    "    sagemaker_session=session,\n",
    ")\n",
    "\n",
    "train_prefix = \"train\"\n",
    "val_prefix = \"validation\"\n",
    "\n",
    "# Train and validation dataset location in S3\n",
    "train_data = \"s3://{}/{}/{}/\".format(bucket, project_name, train_prefix)\n",
    "validation_data = \"s3://{}/{}/{}/\".format(bucket, project_name, val_prefix)"
   ]
  },
  {
   "cell_type": "markdown",
   "id": "f6464ea1-93cd-429d-9d09-e0197472b613",
   "metadata": {},
   "source": [
    "# ETL: split data into training and validation"
   ]
  },
  {
   "cell_type": "code",
   "execution_count": 8,
   "id": "874fa14e-6093-42ce-b653-1a8c0b08a525",
   "metadata": {},
   "outputs": [
    {
     "data": {
      "text/html": [
       "<pre style=\"white-space:pre;overflow-x:auto;line-height:normal;font-family:Menlo,'DejaVu Sans Mono',consolas,'Courier New',monospace\"><span style=\"color: #7fbfbf; text-decoration-color: #7fbfbf\">[12/14/24 18:42:21] </span><span style=\"color: #0069ff; text-decoration-color: #0069ff; font-weight: bold\">INFO    </span> Found credentials in shared credentials file: ~<span style=\"color: #e100e1; text-decoration-color: #e100e1\">/.aws/credentials</span>   <a href=\"file:///Users/pengzhao/opt/anaconda3/envs/mlops/lib/python3.10/site-packages/botocore/credentials.py\" target=\"_blank\"><span style=\"color: #7f7f7f; text-decoration-color: #7f7f7f\">credentials.py</span></a><span style=\"color: #7f7f7f; text-decoration-color: #7f7f7f\">:</span><a href=\"file:///Users/pengzhao/opt/anaconda3/envs/mlops/lib/python3.10/site-packages/botocore/credentials.py#1278\" target=\"_blank\"><span style=\"color: #7f7f7f; text-decoration-color: #7f7f7f\">1278</span></a>\n",
       "</pre>\n"
      ],
      "text/plain": [
       "\u001b[2;36m[12/14/24 18:42:21]\u001b[0m\u001b[2;36m \u001b[0m\u001b[1;38;2;0;105;255mINFO    \u001b[0m Found credentials in shared credentials file: ~\u001b[38;2;225;0;225m/.aws/\u001b[0m\u001b[38;2;225;0;225mcredentials\u001b[0m   \u001b]8;id=3120;file:///Users/pengzhao/opt/anaconda3/envs/mlops/lib/python3.10/site-packages/botocore/credentials.py\u001b\\\u001b[2mcredentials.py\u001b[0m\u001b]8;;\u001b\\\u001b[2m:\u001b[0m\u001b]8;id=692957;file:///Users/pengzhao/opt/anaconda3/envs/mlops/lib/python3.10/site-packages/botocore/credentials.py#1278\u001b\\\u001b[2m1278\u001b[0m\u001b]8;;\u001b\\\n"
      ]
     },
     "metadata": {},
     "output_type": "display_data"
    }
   ],
   "source": [
    "# Copy glue_etl.py to notebook instance\n",
    "# Upload glue script to S3 bucket\n",
    "glue_script_location = S3Uploader.upload(\n",
    "    local_path=\"./code/glue_etl.py\",\n",
    "    desired_s3_uri=\"s3://{}/{}\".format(bucket, project_name),\n",
    "    sagemaker_session=session,\n",
    ")\n",
    "glue_client = boto3.client(\"glue\")\n",
    "\n",
    "# create a ETL job in Glue to split training and validation dataset\n",
    "response = glue_client.create_job(\n",
    "    Name=job_name,\n",
    "    Description=\"PySpark job to extract the data and split in to training and validation data sets\",\n",
    "    Role=glue_role,  # you can pass your existing AWS Glue role here if you have used Glue before\n",
    "    ExecutionProperty={\"MaxConcurrentRuns\": 2},\n",
    "    Command={\"Name\": \"glueetl\", \"ScriptLocation\": glue_script_location, \"PythonVersion\": \"3\"},\n",
    "    DefaultArguments={\"--job-language\": \"python\"},\n",
    "    GlueVersion=\"3.0\",\n",
    "    WorkerType=\"Standard\",\n",
    "    NumberOfWorkers=2,\n",
    "    Timeout=60,\n",
    ")"
   ]
  },
  {
   "cell_type": "code",
   "execution_count": 9,
   "id": "332f3be2",
   "metadata": {},
   "outputs": [
    {
     "data": {
      "text/plain": [
       "['query_training_status.py', 'glue_etl.py']"
      ]
     },
     "execution_count": 9,
     "metadata": {},
     "output_type": "execute_result"
    }
   ],
   "source": [
    "import os\n",
    "os.listdir('./code')"
   ]
  },
  {
   "cell_type": "code",
   "execution_count": 14,
   "id": "fae71520",
   "metadata": {},
   "outputs": [
    {
     "data": {
      "text/plain": [
       "'s3://sagemaker-us-west-1-798223350085/ml_deploy/query_training_status.zip'"
      ]
     },
     "execution_count": 14,
     "metadata": {},
     "output_type": "execute_result"
    }
   ],
   "source": [
    "import zipfile\n",
    "\n",
    "# Model validation pipeline\n",
    "# Copy query_training_status.py to lcoal instance notebook\n",
    "zip_name = \"query_training_status.zip\"\n",
    "lambda_source_code = \"./code/query_training_status.py\"\n",
    "\n",
    "# Zip the script\n",
    "zf = zipfile.ZipFile(zip_name, mode=\"w\")\n",
    "zf.write(lambda_source_code, arcname=lambda_source_code.split(\"/\")[-1])\n",
    "zf.close()\n",
    "\n",
    "# Copy zipped script to S3 for lambda use\n",
    "S3Uploader.upload(\n",
    "    local_path=zip_name,\n",
    "    desired_s3_uri=\"s3://{}/{}\".format(bucket, project_name),\n",
    "    sagemaker_session=session,\n",
    ")"
   ]
  },
  {
   "cell_type": "code",
   "execution_count": 15,
   "id": "d97c8909",
   "metadata": {},
   "outputs": [],
   "source": [
    "# Create lambda client\n",
    "lambda_client = boto3.client(\"lambda\")\n",
    "\n",
    "# Create a lambda function for model result validation\n",
    "response = lambda_client.create_function(\n",
    "    FunctionName=function_name,\n",
    "    Runtime=\"python3.9\",\n",
    "    Role=lambda_role,\n",
    "    Handler=\"query_training_status.lambda_handler\",\n",
    "    Code={\"S3Bucket\": bucket, \"S3Key\": \"{}/{}\".format(project_name, zip_name)},\n",
    "    Description=\"Queries a SageMaker training job and return the results.\",\n",
    "    Timeout=15,\n",
    "    MemorySize=128,\n",
    ")"
   ]
  },
  {
   "cell_type": "code",
   "execution_count": 16,
   "id": "5ebf8833",
   "metadata": {},
   "outputs": [],
   "source": [
    "# Retrive XGBoost algorithm container for training purpose\n",
    "container = sagemaker.image_uris.retrieve(\"xgboost\", region, \"latest\")\n",
    "\n",
    "# Create XGBoost estimator (model) with m4.xlarge instance type\n",
    "xgb = sagemaker.estimator.Estimator(\n",
    "    container,\n",
    "    sagemaker_execution_role,\n",
    "    train_instance_count=1,\n",
    "    train_instance_type=\"ml.m4.xlarge\",\n",
    "    output_path=\"s3://{}/{}/output\".format(bucket, project_name),\n",
    ")\n",
    "\n",
    "# Set initial hyperparameter configurations\n",
    "xgb.set_hyperparameters(\n",
    "    max_depth=5,\n",
    "    eta=0.2,\n",
    "    gamma=4,\n",
    "    min_child_weight=6,\n",
    "    subsample=0.8,\n",
    "    objective=\"binary:logistic\",\n",
    "    eval_metric=\"error\",\n",
    "    num_round=100,\n",
    ")"
   ]
  },
  {
   "cell_type": "code",
   "execution_count": 17,
   "id": "01db9f4d",
   "metadata": {},
   "outputs": [],
   "source": [
    "# Specify model training execution configurations\n",
    "# SageMaker expects unique names for each job, model and endpoint.\n",
    "# If these names are not unique the execution will fail.\n",
    "execution_input = ExecutionInput(\n",
    "    schema={\n",
    "        \"TrainingJobName\": str,\n",
    "        \"GlueJobName\": str,\n",
    "        \"ModelName\": str,\n",
    "        \"EndpointName\": str,\n",
    "        \"LambdaFunctionName\": str,\n",
    "    }\n",
    ")"
   ]
  },
  {
   "cell_type": "code",
   "execution_count": 18,
   "id": "98ce6c9f",
   "metadata": {},
   "outputs": [],
   "source": [
    "# Start glue data ETL job run\n",
    "etl_step = steps.GlueStartJobRunStep(\n",
    "    \"Extract, Transform, Load\",\n",
    "    parameters={\n",
    "        \"JobName\": execution_input[\"GlueJobName\"],\n",
    "        \"Arguments\": {\n",
    "            \"--S3_SOURCE\": data_source,\n",
    "            \"--S3_DEST\": \"s3a://{}/{}/\".format(bucket, project_name),\n",
    "            \"--TRAIN_KEY\": train_prefix + \"/\",\n",
    "            \"--VAL_KEY\": val_prefix + \"/\",\n",
    "        },\n",
    "    },\n",
    ")"
   ]
  },
  {
   "cell_type": "code",
   "execution_count": 19,
   "id": "c518a0ab",
   "metadata": {},
   "outputs": [],
   "source": [
    "# Define model training setp\n",
    "training_step = steps.TrainingStep(\n",
    "    \"Model Training\",\n",
    "    estimator=xgb,\n",
    "    data={\n",
    "        \"train\": TrainingInput(train_data, content_type=\"text/csv\"),\n",
    "        \"validation\": TrainingInput(validation_data, content_type=\"text/csv\"),\n",
    "    },\n",
    "    job_name=execution_input[\"TrainingJobName\"],\n",
    "    wait_for_completion=True,\n",
    ")"
   ]
  },
  {
   "cell_type": "code",
   "execution_count": 20,
   "id": "0c851ca7",
   "metadata": {},
   "outputs": [],
   "source": [
    "# Define model store / register step\n",
    "model_step = steps.ModelStep(\n",
    "    \"Save Model\",\n",
    "    model=training_step.get_expected_model(),\n",
    "    model_name=execution_input[\"ModelName\"],\n",
    "    result_path=\"$.ModelStepResults\",\n",
    ")"
   ]
  },
  {
   "cell_type": "code",
   "execution_count": 21,
   "id": "4a0cfa03",
   "metadata": {},
   "outputs": [],
   "source": [
    "# Define lambda for model validation step\n",
    "lambda_step = steps.compute.LambdaStep(\n",
    "    \"Query Training Results\",\n",
    "    parameters={\n",
    "        \"FunctionName\": execution_input[\"LambdaFunctionName\"],\n",
    "        \"Payload\": {\"TrainingJobName.$\": \"$.TrainingJobName\"},\n",
    "    },\n",
    ")"
   ]
  },
  {
   "cell_type": "code",
   "execution_count": 22,
   "id": "702abe5b",
   "metadata": {},
   "outputs": [],
   "source": [
    "# Name accuracy check in AWS StepFunction\n",
    "check_accuracy_step = steps.states.Choice(\"Accuracy > 90%\")"
   ]
  },
  {
   "cell_type": "code",
   "execution_count": 23,
   "id": "9444c825",
   "metadata": {},
   "outputs": [],
   "source": [
    "# Configure model deployment endpoint\n",
    "endpoint_config_step = steps.EndpointConfigStep(\n",
    "    \"Create Model Endpoint Config\",\n",
    "    endpoint_config_name=execution_input[\"ModelName\"],\n",
    "    model_name=execution_input[\"ModelName\"],\n",
    "    initial_instance_count=1,\n",
    "    instance_type=\"ml.m4.xlarge\",\n",
    ")"
   ]
  },
  {
   "cell_type": "code",
   "execution_count": 24,
   "id": "ebbf8e2f",
   "metadata": {},
   "outputs": [],
   "source": [
    "# Update Model Endpoint\n",
    "endpoint_step = steps.EndpointStep(\n",
    "    \"Update Model Endpoint\",\n",
    "    endpoint_name=execution_input[\"EndpointName\"],\n",
    "    endpoint_config_name=execution_input[\"ModelName\"],\n",
    "    # If you want continuous training in existing pipeline, need to modify this to true\n",
    "    update=False,\n",
    ")"
   ]
  },
  {
   "cell_type": "code",
   "execution_count": 25,
   "id": "1a14f8d5",
   "metadata": {},
   "outputs": [],
   "source": [
    "# Name fail critera in AWS StepFunction\n",
    "fail_step = steps.states.Fail(\n",
    "    \"Model Accuracy Too Low\", comment=\"Validation accuracy lower than threshold\"\n",
    ")"
   ]
  },
  {
   "cell_type": "code",
   "execution_count": 26,
   "id": "d89a444a",
   "metadata": {},
   "outputs": [],
   "source": [
    "# Define logic for model validation\n",
    "threshold_rule = steps.choice_rule.ChoiceRule.NumericLessThan(\n",
    "    variable=lambda_step.output()[\"Payload\"][\"trainingMetrics\"][0][\"Value\"], value=0.1\n",
    ")\n",
    "\n",
    "check_accuracy_step.add_choice(rule=threshold_rule, next_step=endpoint_config_step)\n",
    "check_accuracy_step.default_choice(next_step=fail_step)"
   ]
  },
  {
   "cell_type": "code",
   "execution_count": 27,
   "id": "bd550d55",
   "metadata": {},
   "outputs": [
    {
     "data": {
      "text/plain": [
       "Update Model Endpoint EndpointStep(resource='arn:aws:states:::sagemaker:createEndpoint', parameters={'EndpointConfigName': <stepfunctions.inputs.placeholders.ExecutionInput object at 0x7f90e16364c0>, 'EndpointName': <stepfunctions.inputs.placeholders.ExecutionInput object at 0x7f90e1636eb0>}, type='Task')"
      ]
     },
     "execution_count": 27,
     "metadata": {},
     "output_type": "execute_result"
    }
   ],
   "source": [
    "# Define step function end\n",
    "endpoint_config_step.next(endpoint_step)"
   ]
  },
  {
   "cell_type": "code",
   "execution_count": 28,
   "id": "f2593ed9",
   "metadata": {},
   "outputs": [],
   "source": [
    "# Chain model training automation as a pipeline\n",
    "workflow_definition = steps.Chain(\n",
    "    [etl_step, training_step, model_step, lambda_step, check_accuracy_step]\n",
    ")"
   ]
  },
  {
   "cell_type": "code",
   "execution_count": 29,
   "id": "39442785",
   "metadata": {},
   "outputs": [],
   "source": [
    "# Define workflow in AWS StepFunction\n",
    "workflow = Workflow(\n",
    "    name=\"MyInferenceRoutine_{}\".format(id),\n",
    "    definition=workflow_definition,\n",
    "    role=workflow_execution_role,\n",
    "    execution_input=execution_input,\n",
    ")"
   ]
  },
  {
   "cell_type": "code",
   "execution_count": 30,
   "id": "58cb7575",
   "metadata": {},
   "outputs": [
    {
     "data": {
      "text/html": [
       "\n",
       "<link rel=\"stylesheet\" type=\"text/css\" href=\"https://do0of8uwbahzz.cloudfront.net/graph.css\">\n",
       "<div id=\"graph-674\" class=\"workflowgraph\">\n",
       "    \n",
       "    <svg></svg>\n",
       "    \n",
       "</div>\n",
       "\n",
       "<script type=\"text/javascript\">\n",
       "\n",
       "require.config({\n",
       "    paths: {\n",
       "        sfn: \"https://do0of8uwbahzz.cloudfront.net/sfn\",\n",
       "    }\n",
       "});\n",
       "\n",
       "require(['sfn'], function(sfn) {\n",
       "    var element = document.getElementById('graph-674')\n",
       "\n",
       "    var options = {\n",
       "        width: parseFloat(getComputedStyle(element, null).width.replace(\"px\", \"\")),\n",
       "        height: 600,\n",
       "        layout: 'LR',\n",
       "        resizeHeight: true\n",
       "    };\n",
       "\n",
       "    var definition = {\"StartAt\": \"Extract, Transform, Load\", \"States\": {\"Extract, Transform, Load\": {\"Parameters\": {\"JobName.$\": \"$$.Execution.Input['GlueJobName']\", \"Arguments\": {\"--S3_SOURCE\": \"s3://sagemaker-us-west-1-798223350085/ml_deploy/customer-churn.csv\", \"--S3_DEST\": \"s3a://sagemaker-us-west-1-798223350085/ml_deploy/\", \"--TRAIN_KEY\": \"train/\", \"--VAL_KEY\": \"validation/\"}}, \"Resource\": \"arn:aws:states:::glue:startJobRun.sync\", \"Type\": \"Task\", \"Next\": \"Model Training\"}, \"Model Training\": {\"Resource\": \"arn:aws:states:::sagemaker:createTrainingJob.sync\", \"Parameters\": {\"AlgorithmSpecification\": {\"TrainingImage\": \"632365934929.dkr.ecr.us-west-1.amazonaws.com/xgboost:latest\", \"TrainingInputMode\": \"File\"}, \"OutputDataConfig\": {\"S3OutputPath\": \"s3://sagemaker-us-west-1-798223350085/ml_deploy/output\"}, \"StoppingCondition\": {\"MaxRuntimeInSeconds\": 86400}, \"ResourceConfig\": {\"VolumeSizeInGB\": 30, \"InstanceCount\": 1, \"InstanceType\": \"ml.m4.xlarge\"}, \"RoleArn\": \"arn:aws:iam::798223350085:role/FULLSTACKDS_ROLE1\", \"InputDataConfig\": [{\"DataSource\": {\"S3DataSource\": {\"S3DataType\": \"S3Prefix\", \"S3Uri\": \"s3://sagemaker-us-west-1-798223350085/ml_deploy/train/\", \"S3DataDistributionType\": \"FullyReplicated\"}}, \"ContentType\": \"text/csv\", \"ChannelName\": \"train\"}, {\"DataSource\": {\"S3DataSource\": {\"S3DataType\": \"S3Prefix\", \"S3Uri\": \"s3://sagemaker-us-west-1-798223350085/ml_deploy/validation/\", \"S3DataDistributionType\": \"FullyReplicated\"}}, \"ContentType\": \"text/csv\", \"ChannelName\": \"validation\"}], \"HyperParameters\": {\"max_depth\": \"5\", \"eta\": \"0.2\", \"gamma\": \"4\", \"min_child_weight\": \"6\", \"subsample\": \"0.8\", \"objective\": \"binary:logistic\", \"eval_metric\": \"error\", \"num_round\": \"100\"}, \"TrainingJobName.$\": \"$$.Execution.Input['TrainingJobName']\", \"DebugHookConfig\": {\"S3OutputPath\": \"s3://sagemaker-us-west-1-798223350085/ml_deploy/output\"}}, \"Type\": \"Task\", \"Next\": \"Save Model\"}, \"Save Model\": {\"ResultPath\": \"$.ModelStepResults\", \"Parameters\": {\"ExecutionRoleArn\": \"arn:aws:iam::798223350085:role/FULLSTACKDS_ROLE1\", \"ModelName.$\": \"$$.Execution.Input['ModelName']\", \"PrimaryContainer\": {\"Environment\": {}, \"Image\": \"632365934929.dkr.ecr.us-west-1.amazonaws.com/xgboost:latest\", \"ModelDataUrl.$\": \"$['ModelArtifacts']['S3ModelArtifacts']\"}}, \"Resource\": \"arn:aws:states:::sagemaker:createModel\", \"Type\": \"Task\", \"Next\": \"Query Training Results\"}, \"Query Training Results\": {\"Parameters\": {\"FunctionName.$\": \"$$.Execution.Input['LambdaFunctionName']\", \"Payload\": {\"TrainingJobName.$\": \"$.TrainingJobName\"}}, \"Resource\": \"arn:aws:states:::lambda:invoke\", \"Type\": \"Task\", \"Next\": \"Accuracy > 90%\"}, \"Accuracy > 90%\": {\"Type\": \"Choice\", \"Choices\": [{\"Variable\": \"$['Payload']['trainingMetrics'][0]['Value']\", \"NumericLessThan\": 0.1, \"Next\": \"Create Model Endpoint Config\"}], \"Default\": \"Model Accuracy Too Low\"}, \"Model Accuracy Too Low\": {\"Comment\": \"Validation accuracy lower than threshold\", \"Type\": \"Fail\"}, \"Create Model Endpoint Config\": {\"Resource\": \"arn:aws:states:::sagemaker:createEndpointConfig\", \"Parameters\": {\"EndpointConfigName.$\": \"$$.Execution.Input['ModelName']\", \"ProductionVariants\": [{\"InitialInstanceCount\": 1, \"InstanceType\": \"ml.m4.xlarge\", \"ModelName.$\": \"$$.Execution.Input['ModelName']\", \"VariantName\": \"AllTraffic\"}]}, \"Type\": \"Task\", \"Next\": \"Update Model Endpoint\"}, \"Update Model Endpoint\": {\"Resource\": \"arn:aws:states:::sagemaker:createEndpoint\", \"Parameters\": {\"EndpointConfigName.$\": \"$$.Execution.Input['ModelName']\", \"EndpointName.$\": \"$$.Execution.Input['EndpointName']\"}, \"Type\": \"Task\", \"End\": true}}};\n",
       "    var elementId = '#graph-674';\n",
       "\n",
       "    var graph = new sfn.StateMachineGraph(definition, elementId, options);\n",
       "    graph.render();\n",
       "});\n",
       "\n",
       "</script>\n"
      ],
      "text/plain": [
       "<IPython.core.display.HTML object>"
      ]
     },
     "execution_count": 30,
     "metadata": {},
     "output_type": "execute_result"
    }
   ],
   "source": [
    "# Genearate DAG in graph in AWS StepFunction\n",
    "workflow.render_graph()"
   ]
  },
  {
   "cell_type": "code",
   "execution_count": 31,
   "id": "6d894aad",
   "metadata": {},
   "outputs": [
    {
     "name": "stdout",
     "output_type": "stream",
     "text": [
      "\u001b[32m[INFO] Workflow created successfully on AWS Step Functions.\u001b[0m\n"
     ]
    },
    {
     "data": {
      "text/plain": [
       "'arn:aws:states:us-west-1:798223350085:stateMachine:MyInferenceRoutine_ba65a86c01c8407ba75b475abdc045ec'"
      ]
     },
     "execution_count": 31,
     "metadata": {},
     "output_type": "execute_result"
    }
   ],
   "source": [
    "# Create workflow in AWS StepFunction\n",
    "workflow.create()"
   ]
  },
  {
   "cell_type": "code",
   "execution_count": 32,
   "id": "12c57fb2",
   "metadata": {},
   "outputs": [
    {
     "name": "stdout",
     "output_type": "stream",
     "text": [
      "\u001b[32m[INFO] Workflow execution started successfully on AWS Step Functions.\u001b[0m\n"
     ]
    }
   ],
   "source": [
    "# Execute training automation workflow and pass parameters\n",
    "execution = workflow.execute(\n",
    "    inputs={\n",
    "        \"TrainingJobName\": \"regression-{}\".format(id),  # Each Sagemaker Job requires a unique name,\n",
    "        \"GlueJobName\": job_name,\n",
    "        \"ModelName\": \"CustomerChurn-{}\".format(id),  # Each Model requires a unique name,\n",
    "        \"EndpointName\": \"CustomerChurn\",  # Each Endpoint requires a unique name\n",
    "        \"LambdaFunctionName\": function_name,\n",
    "    }\n",
    ")"
   ]
  },
  {
   "cell_type": "code",
   "execution_count": 33,
   "id": "401797c1",
   "metadata": {},
   "outputs": [
    {
     "data": {
      "text/html": [
       "\n",
       "<link rel=\"stylesheet\" type=\"text/css\" href=\"https://do0of8uwbahzz.cloudfront.net/graph.css\">\n",
       "<div id=\"graph-581\" class=\"workflowgraph\">\n",
       "    \n",
       "    <style>\n",
       "        .graph-legend ul {\n",
       "            list-style-type: none;\n",
       "            padding: 10px;\n",
       "            padding-left: 0;\n",
       "            margin: 0;\n",
       "            position: absolute;\n",
       "            top: 0;\n",
       "            background: transparent;\n",
       "        }\n",
       "\n",
       "        .graph-legend li {\n",
       "            margin-left: 10px;\n",
       "            display: inline-block;\n",
       "        }\n",
       "\n",
       "        .graph-legend li > div {\n",
       "            width: 10px;\n",
       "            height: 10px;\n",
       "            display: inline-block;\n",
       "        }\n",
       "\n",
       "        .graph-legend .success { background-color: #2BD62E }\n",
       "        .graph-legend .failed { background-color: #DE322F }\n",
       "        .graph-legend .cancelled { background-color: #DDDDDD }\n",
       "        .graph-legend .in-progress { background-color: #53C9ED }\n",
       "        .graph-legend .caught-error { background-color: #FFA500 }\n",
       "    </style>\n",
       "    <div class=\"graph-legend\">\n",
       "        <ul>\n",
       "            <li>\n",
       "                <div class=\"success\"></div>\n",
       "                <span>Success</span>\n",
       "            </li>\n",
       "            <li>\n",
       "                <div class=\"failed\"></div>\n",
       "                <span>Failed</span>\n",
       "            </li>\n",
       "            <li>\n",
       "                <div class=\"cancelled\"></div>\n",
       "                <span>Cancelled</span>\n",
       "            </li>\n",
       "            <li>\n",
       "                <div class=\"in-progress\"></div>\n",
       "                <span>In Progress</span>\n",
       "            </li>\n",
       "            <li>\n",
       "                <div class=\"caught-error\"></div>\n",
       "                <span>Caught Error</span>\n",
       "            </li>\n",
       "        </ul>\n",
       "    </div>\n",
       "\n",
       "    <svg></svg>\n",
       "    <a href=\"https://console.aws.amazon.com/states/home?region=us-west-1#/executions/details/arn:aws:states:us-west-1:798223350085:execution:MyInferenceRoutine_ba65a86c01c8407ba75b475abdc045ec:936b1199-e076-49a4-ac90-371b554e5721\" target=\"_blank\"> Inspect in AWS Step Functions </a>\n",
       "</div>\n",
       "\n",
       "<script type=\"text/javascript\">\n",
       "\n",
       "require.config({\n",
       "    paths: {\n",
       "        sfn: \"https://do0of8uwbahzz.cloudfront.net/sfn\",\n",
       "    }\n",
       "});\n",
       "\n",
       "require(['sfn'], function(sfn) {\n",
       "    var element = document.getElementById('graph-581')\n",
       "\n",
       "    var options = {\n",
       "        width: parseFloat(getComputedStyle(element, null).width.replace(\"px\", \"\")),\n",
       "        height: 1000,\n",
       "        layout: 'LR',\n",
       "        resizeHeight: true\n",
       "    };\n",
       "\n",
       "    var definition = {\"StartAt\": \"Extract, Transform, Load\", \"States\": {\"Extract, Transform, Load\": {\"Parameters\": {\"JobName.$\": \"$$.Execution.Input['GlueJobName']\", \"Arguments\": {\"--S3_SOURCE\": \"s3://sagemaker-us-west-1-798223350085/ml_deploy/customer-churn.csv\", \"--S3_DEST\": \"s3a://sagemaker-us-west-1-798223350085/ml_deploy/\", \"--TRAIN_KEY\": \"train/\", \"--VAL_KEY\": \"validation/\"}}, \"Resource\": \"arn:aws:states:::glue:startJobRun.sync\", \"Type\": \"Task\", \"Next\": \"Model Training\"}, \"Model Training\": {\"Resource\": \"arn:aws:states:::sagemaker:createTrainingJob.sync\", \"Parameters\": {\"AlgorithmSpecification\": {\"TrainingImage\": \"632365934929.dkr.ecr.us-west-1.amazonaws.com/xgboost:latest\", \"TrainingInputMode\": \"File\"}, \"OutputDataConfig\": {\"S3OutputPath\": \"s3://sagemaker-us-west-1-798223350085/ml_deploy/output\"}, \"StoppingCondition\": {\"MaxRuntimeInSeconds\": 86400}, \"ResourceConfig\": {\"VolumeSizeInGB\": 30, \"InstanceCount\": 1, \"InstanceType\": \"ml.m4.xlarge\"}, \"RoleArn\": \"arn:aws:iam::798223350085:role/FULLSTACKDS_ROLE1\", \"InputDataConfig\": [{\"DataSource\": {\"S3DataSource\": {\"S3DataType\": \"S3Prefix\", \"S3Uri\": \"s3://sagemaker-us-west-1-798223350085/ml_deploy/train/\", \"S3DataDistributionType\": \"FullyReplicated\"}}, \"ContentType\": \"text/csv\", \"ChannelName\": \"train\"}, {\"DataSource\": {\"S3DataSource\": {\"S3DataType\": \"S3Prefix\", \"S3Uri\": \"s3://sagemaker-us-west-1-798223350085/ml_deploy/validation/\", \"S3DataDistributionType\": \"FullyReplicated\"}}, \"ContentType\": \"text/csv\", \"ChannelName\": \"validation\"}], \"HyperParameters\": {\"max_depth\": \"5\", \"eta\": \"0.2\", \"gamma\": \"4\", \"min_child_weight\": \"6\", \"subsample\": \"0.8\", \"objective\": \"binary:logistic\", \"eval_metric\": \"error\", \"num_round\": \"100\"}, \"TrainingJobName.$\": \"$$.Execution.Input['TrainingJobName']\", \"DebugHookConfig\": {\"S3OutputPath\": \"s3://sagemaker-us-west-1-798223350085/ml_deploy/output\"}}, \"Type\": \"Task\", \"Next\": \"Save Model\"}, \"Save Model\": {\"ResultPath\": \"$.ModelStepResults\", \"Parameters\": {\"ExecutionRoleArn\": \"arn:aws:iam::798223350085:role/FULLSTACKDS_ROLE1\", \"ModelName.$\": \"$$.Execution.Input['ModelName']\", \"PrimaryContainer\": {\"Environment\": {}, \"Image\": \"632365934929.dkr.ecr.us-west-1.amazonaws.com/xgboost:latest\", \"ModelDataUrl.$\": \"$['ModelArtifacts']['S3ModelArtifacts']\"}}, \"Resource\": \"arn:aws:states:::sagemaker:createModel\", \"Type\": \"Task\", \"Next\": \"Query Training Results\"}, \"Query Training Results\": {\"Parameters\": {\"FunctionName.$\": \"$$.Execution.Input['LambdaFunctionName']\", \"Payload\": {\"TrainingJobName.$\": \"$.TrainingJobName\"}}, \"Resource\": \"arn:aws:states:::lambda:invoke\", \"Type\": \"Task\", \"Next\": \"Accuracy > 90%\"}, \"Accuracy > 90%\": {\"Type\": \"Choice\", \"Choices\": [{\"Variable\": \"$['Payload']['trainingMetrics'][0]['Value']\", \"NumericLessThan\": 0.1, \"Next\": \"Create Model Endpoint Config\"}], \"Default\": \"Model Accuracy Too Low\"}, \"Model Accuracy Too Low\": {\"Comment\": \"Validation accuracy lower than threshold\", \"Type\": \"Fail\"}, \"Create Model Endpoint Config\": {\"Resource\": \"arn:aws:states:::sagemaker:createEndpointConfig\", \"Parameters\": {\"EndpointConfigName.$\": \"$$.Execution.Input['ModelName']\", \"ProductionVariants\": [{\"InitialInstanceCount\": 1, \"InstanceType\": \"ml.m4.xlarge\", \"ModelName.$\": \"$$.Execution.Input['ModelName']\", \"VariantName\": \"AllTraffic\"}]}, \"Type\": \"Task\", \"Next\": \"Update Model Endpoint\"}, \"Update Model Endpoint\": {\"Resource\": \"arn:aws:states:::sagemaker:createEndpoint\", \"Parameters\": {\"EndpointConfigName.$\": \"$$.Execution.Input['ModelName']\", \"EndpointName.$\": \"$$.Execution.Input['EndpointName']\"}, \"Type\": \"Task\", \"End\": true}}};\n",
       "    var elementId = '#graph-581';\n",
       "    var events = { 'events': [{\"timestamp\": 1725396901.964, \"type\": \"ExecutionStarted\", \"id\": 1, \"previousEventId\": 0, \"executionStartedEventDetails\": {\"input\": \"{\\n    \\\"TrainingJobName\\\": \\\"regression-ba65a86c01c8407ba75b475abdc045ec\\\",\\n    \\\"GlueJobName\\\": \\\"glue-customer-churn-etl-ba65a86c01c8407ba75b475abdc045ec\\\",\\n    \\\"ModelName\\\": \\\"CustomerChurn-ba65a86c01c8407ba75b475abdc045ec\\\",\\n    \\\"EndpointName\\\": \\\"CustomerChurn\\\",\\n    \\\"LambdaFunctionName\\\": \\\"query-training-status-ba65a86c01c8407ba75b475abdc045ec\\\"\\n}\", \"inputDetails\": {\"truncated\": false}, \"roleArn\": \"arn:aws:iam::798223350085:role/FULLSTACKDS_ROLE1\"}}, {\"timestamp\": 1725396902.017, \"type\": \"TaskStateEntered\", \"id\": 2, \"previousEventId\": 0, \"stateEnteredEventDetails\": {\"name\": \"Extract, Transform, Load\", \"input\": \"{\\n    \\\"TrainingJobName\\\": \\\"regression-ba65a86c01c8407ba75b475abdc045ec\\\",\\n    \\\"GlueJobName\\\": \\\"glue-customer-churn-etl-ba65a86c01c8407ba75b475abdc045ec\\\",\\n    \\\"ModelName\\\": \\\"CustomerChurn-ba65a86c01c8407ba75b475abdc045ec\\\",\\n    \\\"EndpointName\\\": \\\"CustomerChurn\\\",\\n    \\\"LambdaFunctionName\\\": \\\"query-training-status-ba65a86c01c8407ba75b475abdc045ec\\\"\\n}\", \"inputDetails\": {\"truncated\": false}}}, {\"timestamp\": 1725396902.017, \"type\": \"TaskScheduled\", \"id\": 3, \"previousEventId\": 2, \"taskScheduledEventDetails\": {\"resourceType\": \"glue\", \"resource\": \"startJobRun.sync\", \"region\": \"us-west-1\", \"parameters\": \"{\\\"Arguments\\\":{\\\"--S3_SOURCE\\\":\\\"s3://sagemaker-us-west-1-798223350085/ml_deploy/customer-churn.csv\\\",\\\"--S3_DEST\\\":\\\"s3a://sagemaker-us-west-1-798223350085/ml_deploy/\\\",\\\"--TRAIN_KEY\\\":\\\"train/\\\",\\\"--VAL_KEY\\\":\\\"validation/\\\"},\\\"JobName\\\":\\\"glue-customer-churn-etl-ba65a86c01c8407ba75b475abdc045ec\\\"}\"}}, {\"timestamp\": 1725396902.106, \"type\": \"TaskStarted\", \"id\": 4, \"previousEventId\": 3, \"taskStartedEventDetails\": {\"resourceType\": \"glue\", \"resource\": \"startJobRun.sync\"}}] };\n",
       "\n",
       "    var graph = new sfn.StateMachineExecutionGraph(definition, events, elementId, options);\n",
       "    graph.render();\n",
       "});\n",
       "\n",
       "</script>\n"
      ],
      "text/plain": [
       "<IPython.core.display.HTML object>"
      ]
     },
     "execution_count": 33,
     "metadata": {},
     "output_type": "execute_result"
    }
   ],
   "source": [
    "execution.render_progress()"
   ]
  },
  {
   "cell_type": "code",
   "execution_count": 34,
   "id": "b28ff890",
   "metadata": {},
   "outputs": [
    {
     "data": {
      "text/plain": [
       "[{'timestamp': datetime.datetime(2024, 9, 3, 13, 55, 1, 964000, tzinfo=tzlocal()),\n",
       "  'type': 'ExecutionStarted',\n",
       "  'id': 1,\n",
       "  'previousEventId': 0,\n",
       "  'executionStartedEventDetails': {'input': '{\\n    \"TrainingJobName\": \"regression-ba65a86c01c8407ba75b475abdc045ec\",\\n    \"GlueJobName\": \"glue-customer-churn-etl-ba65a86c01c8407ba75b475abdc045ec\",\\n    \"ModelName\": \"CustomerChurn-ba65a86c01c8407ba75b475abdc045ec\",\\n    \"EndpointName\": \"CustomerChurn\",\\n    \"LambdaFunctionName\": \"query-training-status-ba65a86c01c8407ba75b475abdc045ec\"\\n}',\n",
       "   'inputDetails': {'truncated': False},\n",
       "   'roleArn': 'arn:aws:iam::798223350085:role/FULLSTACKDS_ROLE1'}},\n",
       " {'timestamp': datetime.datetime(2024, 9, 3, 13, 55, 2, 17000, tzinfo=tzlocal()),\n",
       "  'type': 'TaskStateEntered',\n",
       "  'id': 2,\n",
       "  'previousEventId': 0,\n",
       "  'stateEnteredEventDetails': {'name': 'Extract, Transform, Load',\n",
       "   'input': '{\\n    \"TrainingJobName\": \"regression-ba65a86c01c8407ba75b475abdc045ec\",\\n    \"GlueJobName\": \"glue-customer-churn-etl-ba65a86c01c8407ba75b475abdc045ec\",\\n    \"ModelName\": \"CustomerChurn-ba65a86c01c8407ba75b475abdc045ec\",\\n    \"EndpointName\": \"CustomerChurn\",\\n    \"LambdaFunctionName\": \"query-training-status-ba65a86c01c8407ba75b475abdc045ec\"\\n}',\n",
       "   'inputDetails': {'truncated': False}}},\n",
       " {'timestamp': datetime.datetime(2024, 9, 3, 13, 55, 2, 17000, tzinfo=tzlocal()),\n",
       "  'type': 'TaskScheduled',\n",
       "  'id': 3,\n",
       "  'previousEventId': 2,\n",
       "  'taskScheduledEventDetails': {'resourceType': 'glue',\n",
       "   'resource': 'startJobRun.sync',\n",
       "   'region': 'us-west-1',\n",
       "   'parameters': '{\"Arguments\":{\"--S3_SOURCE\":\"s3://sagemaker-us-west-1-798223350085/ml_deploy/customer-churn.csv\",\"--S3_DEST\":\"s3a://sagemaker-us-west-1-798223350085/ml_deploy/\",\"--TRAIN_KEY\":\"train/\",\"--VAL_KEY\":\"validation/\"},\"JobName\":\"glue-customer-churn-etl-ba65a86c01c8407ba75b475abdc045ec\"}'}},\n",
       " {'timestamp': datetime.datetime(2024, 9, 3, 13, 55, 2, 106000, tzinfo=tzlocal()),\n",
       "  'type': 'TaskStarted',\n",
       "  'id': 4,\n",
       "  'previousEventId': 3,\n",
       "  'taskStartedEventDetails': {'resourceType': 'glue',\n",
       "   'resource': 'startJobRun.sync'}},\n",
       " {'timestamp': datetime.datetime(2024, 9, 3, 13, 55, 2, 303000, tzinfo=tzlocal()),\n",
       "  'type': 'TaskSubmitted',\n",
       "  'id': 5,\n",
       "  'previousEventId': 4,\n",
       "  'taskSubmittedEventDetails': {'resourceType': 'glue',\n",
       "   'resource': 'startJobRun.sync',\n",
       "   'output': '{\"JobRunId\":\"jr_e2d26b3dfe23da5af36c3ac7d9a0dada8b86adddae578bb6beee22ade19c0bec\",\"SdkHttpMetadata\":{\"AllHttpHeaders\":{\"Connection\":[\"keep-alive\"],\"x-amzn-RequestId\":[\"ba7375d9-302e-46ae-ae27-1881d6dc4db4\"],\"Content-Length\":[\"82\"],\"Date\":[\"Tue, 03 Sep 2024 20:55:02 GMT\"],\"Content-Type\":[\"application/x-amz-json-1.1\"]},\"HttpHeaders\":{\"Connection\":\"keep-alive\",\"Content-Length\":\"82\",\"Content-Type\":\"application/x-amz-json-1.1\",\"Date\":\"Tue, 03 Sep 2024 20:55:02 GMT\",\"x-amzn-RequestId\":\"ba7375d9-302e-46ae-ae27-1881d6dc4db4\"},\"HttpStatusCode\":200},\"SdkResponseMetadata\":{\"RequestId\":\"ba7375d9-302e-46ae-ae27-1881d6dc4db4\"},\"JobName\":\"glue-customer-churn-etl-ba65a86c01c8407ba75b475abdc045ec\"}',\n",
       "   'outputDetails': {'truncated': False}}}]"
      ]
     },
     "execution_count": 34,
     "metadata": {},
     "output_type": "execute_result"
    }
   ],
   "source": [
    "execution.list_events()"
   ]
  },
  {
   "cell_type": "code",
   "execution_count": 35,
   "id": "e6013d16",
   "metadata": {},
   "outputs": [
    {
     "data": {
      "text/html": [
       "\n",
       "    <style>\n",
       "        \n",
       "    .table-widget {\n",
       "        width: 100%;\n",
       "        font-size: 14px;\n",
       "        line-height: 28px;\n",
       "        color: #545b64;\n",
       "        border-spacing: 0;\n",
       "        background-color: #fff;\n",
       "        border-color: grey;\n",
       "        background: #fafafa;\n",
       "    }\n",
       "\n",
       "    .table-widget thead th {\n",
       "        text-align: left !important;\n",
       "        color: #879596;\n",
       "        padding: 0.3em 2em;\n",
       "        border-bottom: 1px solid #eaeded;\n",
       "        min-height: 4rem;\n",
       "        line-height: 28px;\n",
       "    }\n",
       "\n",
       "    .table-widget thead th:first-of-type {\n",
       "    }\n",
       "\n",
       "    .table-widget td {\n",
       "        overflow-wrap: break-word;\n",
       "        padding: 0.4em 2em;\n",
       "        line-height: 28px;\n",
       "        text-align: left !important;\n",
       "        background: #fff;\n",
       "        border-bottom: 1px solid #eaeded;\n",
       "        border-top: 1px solid transparent;\n",
       "    }\n",
       "\n",
       "    .table-widget td:before {\n",
       "        content: \"\";\n",
       "        height: 3rem;\n",
       "    }\n",
       "\n",
       "    a {\n",
       "        cursor: pointer;\n",
       "        text-decoration: none !important;\n",
       "        color: #007dbc;\n",
       "    }\n",
       "\n",
       "    a:hover {\n",
       "        text-decoration: underline !important;\n",
       "    }\n",
       "\n",
       "    a.disabled {\n",
       "        color: black;\n",
       "        cursor: default;\n",
       "        pointer-events: none;\n",
       "    }\n",
       "\n",
       "    .hide {\n",
       "        display: none;\n",
       "    }\n",
       "\n",
       "    pre {\n",
       "        white-space: pre-wrap;\n",
       "    }\n",
       "\n",
       "        \n",
       "    * {\n",
       "        box-sizing: border-box;\n",
       "    }\n",
       "\n",
       "    .table-widget {\n",
       "        min-width: 100%;\n",
       "        font-size: 14px;\n",
       "        line-height: 28px;\n",
       "        color: #545b64;\n",
       "        border-spacing: 0;\n",
       "        background-color: #fff;\n",
       "        border-color: grey;\n",
       "        background: #fafafa;\n",
       "    }\n",
       "\n",
       "    .table-widget thead th {\n",
       "        text-align: left !important;\n",
       "        color: #879596;\n",
       "        padding: 0.3em 2em;\n",
       "        border-bottom: 1px solid #eaeded;\n",
       "        min-height: 4rem;\n",
       "        line-height: 28px;\n",
       "    }\n",
       "\n",
       "    .table-widget td {\n",
       "        /* padding: 24px 18px; */\n",
       "        padding: 0.4em 2em;\n",
       "        line-height: 28px;\n",
       "        text-align: left !important;\n",
       "        background: #fff;\n",
       "        border-bottom: 1px solid #eaeded;\n",
       "        border-top: 1px solid transparent;\n",
       "    }\n",
       "\n",
       "    .table-widget td:before {\n",
       "        content: \"\";\n",
       "        height: 3rem;\n",
       "    }\n",
       "\n",
       "    .table-widget .clickable-cell {\n",
       "        cursor: pointer;\n",
       "    }\n",
       "\n",
       "    .hide {\n",
       "        display: none;\n",
       "    }\n",
       "\n",
       "    .triangle-right {\n",
       "        width: 0;\n",
       "        height: 0;\n",
       "        border-top: 5px solid transparent;\n",
       "        border-left: 8px solid #545b64;\n",
       "        border-bottom: 5px solid transparent;\n",
       "        margin-right: 5px;\n",
       "    }\n",
       "\n",
       "    a.awsui {\n",
       "        text-decoration: none !important;\n",
       "        color: #007dbc;\n",
       "    }\n",
       "\n",
       "    a.awsui:hover {\n",
       "        text-decoration: underline !important;\n",
       "    }\n",
       "\n",
       "    </style>\n",
       "    <table class=\"table-widget\">\n",
       "        <thead>\n",
       "            <tr>\n",
       "                <th>Name</th>\n",
       "                <th>Status</th>\n",
       "                <th>Started</th>\n",
       "                <th>End Time</th>\n",
       "            </tr>\n",
       "        </thead>\n",
       "        <tbody>\n",
       "            \n",
       "    <tr class=\"awsui-table-row\">\n",
       "        <td>\n",
       "            <a href=\"https://console.aws.amazon.com/states/home?region=us-west-1#/executions/details/arn:aws:states:us-west-1:798223350085:execution:MyInferenceRoutine_ba65a86c01c8407ba75b475abdc045ec:936b1199-e076-49a4-ac90-371b554e5721\" target=\"_blank\" class=\"awsui\">936b1199-e076-49a4-ac90-371b554e5721</a>\n",
       "        </td>\n",
       "        <td>RUNNING</td>\n",
       "        <td>Sep 03, 2024 01:55:01.964 PM</td>\n",
       "        <td>-</td>\n",
       "    </tr>\n",
       "\n",
       "        </tbody>\n",
       "    </table>\n"
      ],
      "text/plain": [
       "<IPython.core.display.HTML object>"
      ]
     },
     "execution_count": 35,
     "metadata": {},
     "output_type": "execute_result"
    }
   ],
   "source": [
    "workflow.list_executions(html=True)"
   ]
  },
  {
   "cell_type": "code",
   "execution_count": 43,
   "id": "2b5668a3",
   "metadata": {},
   "outputs": [
    {
     "ename": "ValidationError",
     "evalue": "An error occurred (ValidationError) when calling the InvokeEndpoint operation: Endpoint CustomerChurn of account 798223350085 not found.",
     "output_type": "error",
     "traceback": [
      "\u001b[0;31m---------------------------------------------------------------------------\u001b[0m",
      "\u001b[0;31mValidationError\u001b[0m                           Traceback (most recent call last)",
      "\u001b[0;32m<ipython-input-43-b365195c3990>\u001b[0m in \u001b[0;36m<module>\u001b[0;34m\u001b[0m\n\u001b[1;32m      4\u001b[0m     \"sagemaker-runtime\", region_name='us-west-2')\n\u001b[1;32m      5\u001b[0m \u001b[0;34m\u001b[0m\u001b[0m\n\u001b[0;32m----> 6\u001b[0;31m response = sagemaker_runtime.invoke_endpoint(\n\u001b[0m\u001b[1;32m      7\u001b[0m     \u001b[0mEndpointName\u001b[0m\u001b[0;34m=\u001b[0m\u001b[0mendpoint_name\u001b[0m\u001b[0;34m,\u001b[0m\u001b[0;34m\u001b[0m\u001b[0;34m\u001b[0m\u001b[0m\n\u001b[1;32m      8\u001b[0m     \u001b[0mContentType\u001b[0m\u001b[0;34m=\u001b[0m\u001b[0;34m'text/csv'\u001b[0m\u001b[0;34m,\u001b[0m\u001b[0;34m\u001b[0m\u001b[0;34m\u001b[0m\u001b[0m\n",
      "\u001b[0;32m~/opt/anaconda3/lib/python3.8/site-packages/botocore/client.py\u001b[0m in \u001b[0;36m_api_call\u001b[0;34m(self, *args, **kwargs)\u001b[0m\n\u001b[1;32m    567\u001b[0m                 )\n\u001b[1;32m    568\u001b[0m             \u001b[0;31m# The \"self\" in this scope is referring to the BaseClient.\u001b[0m\u001b[0;34m\u001b[0m\u001b[0;34m\u001b[0m\u001b[0;34m\u001b[0m\u001b[0m\n\u001b[0;32m--> 569\u001b[0;31m             \u001b[0;32mreturn\u001b[0m \u001b[0mself\u001b[0m\u001b[0;34m.\u001b[0m\u001b[0m_make_api_call\u001b[0m\u001b[0;34m(\u001b[0m\u001b[0moperation_name\u001b[0m\u001b[0;34m,\u001b[0m \u001b[0mkwargs\u001b[0m\u001b[0;34m)\u001b[0m\u001b[0;34m\u001b[0m\u001b[0;34m\u001b[0m\u001b[0m\n\u001b[0m\u001b[1;32m    570\u001b[0m \u001b[0;34m\u001b[0m\u001b[0m\n\u001b[1;32m    571\u001b[0m         \u001b[0m_api_call\u001b[0m\u001b[0;34m.\u001b[0m\u001b[0m__name__\u001b[0m \u001b[0;34m=\u001b[0m \u001b[0mstr\u001b[0m\u001b[0;34m(\u001b[0m\u001b[0mpy_operation_name\u001b[0m\u001b[0;34m)\u001b[0m\u001b[0;34m\u001b[0m\u001b[0;34m\u001b[0m\u001b[0m\n",
      "\u001b[0;32m~/opt/anaconda3/lib/python3.8/site-packages/botocore/client.py\u001b[0m in \u001b[0;36m_make_api_call\u001b[0;34m(self, operation_name, api_params)\u001b[0m\n\u001b[1;32m   1021\u001b[0m             )\n\u001b[1;32m   1022\u001b[0m             \u001b[0merror_class\u001b[0m \u001b[0;34m=\u001b[0m \u001b[0mself\u001b[0m\u001b[0;34m.\u001b[0m\u001b[0mexceptions\u001b[0m\u001b[0;34m.\u001b[0m\u001b[0mfrom_code\u001b[0m\u001b[0;34m(\u001b[0m\u001b[0merror_code\u001b[0m\u001b[0;34m)\u001b[0m\u001b[0;34m\u001b[0m\u001b[0;34m\u001b[0m\u001b[0m\n\u001b[0;32m-> 1023\u001b[0;31m             \u001b[0;32mraise\u001b[0m \u001b[0merror_class\u001b[0m\u001b[0;34m(\u001b[0m\u001b[0mparsed_response\u001b[0m\u001b[0;34m,\u001b[0m \u001b[0moperation_name\u001b[0m\u001b[0;34m)\u001b[0m\u001b[0;34m\u001b[0m\u001b[0;34m\u001b[0m\u001b[0m\n\u001b[0m\u001b[1;32m   1024\u001b[0m         \u001b[0;32melse\u001b[0m\u001b[0;34m:\u001b[0m\u001b[0;34m\u001b[0m\u001b[0;34m\u001b[0m\u001b[0m\n\u001b[1;32m   1025\u001b[0m             \u001b[0;32mreturn\u001b[0m \u001b[0mparsed_response\u001b[0m\u001b[0;34m\u001b[0m\u001b[0;34m\u001b[0m\u001b[0m\n",
      "\u001b[0;31mValidationError\u001b[0m: An error occurred (ValidationError) when calling the InvokeEndpoint operation: Endpoint CustomerChurn of account 798223350085 not found."
     ]
    }
   ],
   "source": [
    "# Validate endpoint\n",
    "endpoint_name=\"CustomerChurn\"\n",
    "sagemaker_runtime = boto3.client(\n",
    "    \"sagemaker-runtime\", region_name='us-west-2')\n",
    "\n",
    "response = sagemaker_runtime.invoke_endpoint(\n",
    "    EndpointName=endpoint_name, \n",
    "    ContentType='text/csv',\n",
    "    Body = \"2.0,400.0,0.38571846040122537,2.0,4.177940384158745,0.0,3.745462710628048,250.0,3.699591756294294,1.0,11.0,0.0,0.0,0.0,0.0,0.0,0.0,0.0,0.0,0.0,0.0,0.0,0.0,0.0,0.0,0.0,0.0,0.0,0.0,0.0,0.0,0.0,0.0,0.0,0.0,0.0,0.0,0.0,0.0,0.0,0.0,0.0,0.0,0.0,0.0,0.0,0.0,0.0,0.0,0.0,0.0,0.0,0.0,0.0,0.0,0.0,0.0,0.0,0.0,0.0,0.0,1.0,0.0,0.0,0.0,0.0,0.0,0.0,0.0,0.0,0.0,0.0,0.0,0.0,0.0,0.0,0.0,0.0,0.0,0.0,0.0,0.0,0.0,0.0,0.0,0.0,0.0,0.0,0.0,0.0,0.0,0.0,0.0,0.0,1.0,1.0,0.0,0.0,1.0\"\n",
    ")\n",
    "print(response['Body'].read().decode('utf-8'))"
   ]
  },
  {
   "cell_type": "code",
   "execution_count": 44,
   "id": "ddc6bb9a",
   "metadata": {},
   "outputs": [
    {
     "name": "stdout",
     "output_type": "stream",
     "text": [
      "\u001b[32m[INFO] Workflow has been marked for deletion. If the workflow has running executions, it will be deleted when all executions are stopped.\u001b[0m\n"
     ]
    }
   ],
   "source": [
    "# Clean up resource, note does not include delete SageMaker endpoint\n",
    "lambda_client.delete_function(FunctionName=function_name)\n",
    "glue_client.delete_job(JobName=job_name)\n",
    "workflow.delete()"
   ]
  },
  {
   "cell_type": "code",
   "execution_count": 45,
   "id": "423c9db7",
   "metadata": {},
   "outputs": [
    {
     "name": "stdout",
     "output_type": "stream",
     "text": [
      "/Users/pengzhao/Documents/DataScience/mlops/MLOpsCamp/week3/ETL\r\n"
     ]
    }
   ],
   "source": [
    "!pwd"
   ]
  },
  {
   "cell_type": "code",
   "execution_count": null,
   "id": "b7ec2e79",
   "metadata": {},
   "outputs": [],
   "source": []
  }
 ],
 "metadata": {
  "kernelspec": {
   "display_name": "Python 3 (ipykernel)",
   "language": "python",
   "name": "python3"
  },
  "language_info": {
   "codemirror_mode": {
    "name": "ipython",
    "version": 3
   },
   "file_extension": ".py",
   "mimetype": "text/x-python",
   "name": "python",
   "nbconvert_exporter": "python",
   "pygments_lexer": "ipython3",
   "version": "3.10.14"
  }
 },
 "nbformat": 4,
 "nbformat_minor": 5
}
